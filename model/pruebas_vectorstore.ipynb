{
 "cells": [
  {
   "cell_type": "code",
   "execution_count": 55,
   "metadata": {},
   "outputs": [],
   "source": [
    "from langchain_community.document_loaders import PyPDFLoader\n",
    "from langchain.text_splitter import CharacterTextSplitter\n",
    "from langchain_openai import OpenAIEmbeddings\n",
    "from langchain_community.vectorstores import FAISS\n",
    "from langchain_community.document_loaders import TextLoader\n",
    "import tiktoken\n",
    "import time"
   ]
  },
  {
   "cell_type": "markdown",
   "metadata": {},
   "source": [
    "## OPCION 1 DE CARGAR LOS DOCUMENTOS"
   ]
  },
  {
   "cell_type": "markdown",
   "metadata": {},
   "source": [
    "### No sirve muy bien esta opcion porque marca un error del \"page_content\", mejor usar la opcion 2"
   ]
  },
  {
   "cell_type": "code",
   "execution_count": 56,
   "metadata": {},
   "outputs": [],
   "source": [
    "#loader1 = TextLoader(\"../raw_data/scraped_data.txt\")\n",
    "#text1 = loader1.load()\n",
    "\n",
    "loader2 = TextLoader(\"../raw_data/scraped_data2.txt\")\n",
    "text2 = loader2.load()\n",
    "\n",
    "#loader3 = PyPDFLoader(\"../raw_data/Reglamento_CDMX.pdf\")\n",
    "#pdf = loader3.load()\n"
   ]
  },
  {
   "cell_type": "code",
   "execution_count": 57,
   "metadata": {},
   "outputs": [],
   "source": [
    "documents = [text2]"
   ]
  },
  {
   "cell_type": "markdown",
   "metadata": {},
   "source": [
    "## OPCION 2 DE CARGAR LOS DOCUMENTOS"
   ]
  },
  {
   "cell_type": "markdown",
   "metadata": {},
   "source": [
    "### Este cicllo se hizo solo con el SEGUNDO DOCUMENTO TXT \n",
    "Tiene 247 docs y 84591 tokens"
   ]
  },
  {
   "cell_type": "code",
   "execution_count": 58,
   "metadata": {},
   "outputs": [],
   "source": [
    "file_paths = [\n",
    "    #../raw_data/scraped_data.txt\",\n",
    "    \"../raw_data/scraped_data2.txt\",\n",
    "    #\"../raw_data/Reglamento_CDMX.pdf\"\n",
    "]"
   ]
  },
  {
   "cell_type": "code",
   "execution_count": 59,
   "metadata": {},
   "outputs": [],
   "source": [
    "documents = []\n",
    "for file_path in file_paths:\n",
    "    if file_path.endswith(\".txt\"):\n",
    "        loader = TextLoader(file_path)\n",
    "    elif file_path.endswith(\".pdf\"):\n",
    "        loader = PyPDFLoader(file_path)\n",
    "    else:\n",
    "        print(f\"Unsupported file format for {file_path}\")\n",
    "text = loader.load()\n",
    "documents.append(text)"
   ]
  },
  {
   "cell_type": "code",
   "execution_count": 60,
   "metadata": {},
   "outputs": [
    {
     "name": "stdout",
     "output_type": "stream",
     "text": [
      "1\n"
     ]
    }
   ],
   "source": [
    "print(len(documents))"
   ]
  },
  {
   "cell_type": "code",
   "execution_count": 61,
   "metadata": {},
   "outputs": [],
   "source": [
    "text_splitter = CharacterTextSplitter(chunk_size=1500, chunk_overlap=0)\n"
   ]
  },
  {
   "cell_type": "code",
   "execution_count": 62,
   "metadata": {},
   "outputs": [
    {
     "name": "stderr",
     "output_type": "stream",
     "text": [
      "Created a chunk of size 2172, which is longer than the specified 1500\n",
      "Created a chunk of size 1843, which is longer than the specified 1500\n",
      "Created a chunk of size 4670, which is longer than the specified 1500\n",
      "Created a chunk of size 4138, which is longer than the specified 1500\n",
      "Created a chunk of size 2172, which is longer than the specified 1500\n",
      "Created a chunk of size 1843, which is longer than the specified 1500\n",
      "Created a chunk of size 4670, which is longer than the specified 1500\n",
      "Created a chunk of size 4138, which is longer than the specified 1500\n",
      "Created a chunk of size 2172, which is longer than the specified 1500\n",
      "Created a chunk of size 1843, which is longer than the specified 1500\n",
      "Created a chunk of size 4670, which is longer than the specified 1500\n",
      "Created a chunk of size 4138, which is longer than the specified 1500\n"
     ]
    }
   ],
   "source": [
    "docs = text_splitter.split_documents(documents[0])"
   ]
  },
  {
   "cell_type": "code",
   "execution_count": 63,
   "metadata": {},
   "outputs": [
    {
     "name": "stdout",
     "output_type": "stream",
     "text": [
      "231\n"
     ]
    }
   ],
   "source": [
    "print(len(docs))"
   ]
  },
  {
   "cell_type": "code",
   "execution_count": 64,
   "metadata": {},
   "outputs": [],
   "source": [
    "def countTokens(query: str):\n",
    "    encoding = tiktoken.get_encoding(\"cl100k_base\")\n",
    "    num_tokens=len(encoding.encode(query))\n",
    "    return num_tokens"
   ]
  },
  {
   "cell_type": "code",
   "execution_count": 65,
   "metadata": {},
   "outputs": [
    {
     "name": "stdout",
     "output_type": "stream",
     "text": [
      "84591\n"
     ]
    }
   ],
   "source": [
    "print(sum(countTokens(d.page_content) for d in docs))"
   ]
  },
  {
   "cell_type": "markdown",
   "metadata": {},
   "source": [
    "### Aqui hacemos el embedding solo a una parte de los 247 docs del segundo txt, para probar unicamente"
   ]
  },
  {
   "cell_type": "code",
   "execution_count": 66,
   "metadata": {},
   "outputs": [
    {
     "name": "stdout",
     "output_type": "stream",
     "text": [
      "21\n",
      "41\n",
      "61\n"
     ]
    }
   ],
   "source": [
    "i=1\n",
    "embeddings = OpenAIEmbeddings()\n",
    "db = FAISS.from_documents([docs[0]],embeddings)\n",
    "while i <= 50:\n",
    "    db1 = FAISS.from_documents(docs[i:i+20], embeddings)\n",
    "    i +=20\n",
    "    db.merge_from(db1)\n",
    "    print(i)\n",
    "    time.sleep(30)\n"
   ]
  },
  {
   "cell_type": "code",
   "execution_count": 67,
   "metadata": {},
   "outputs": [],
   "source": [
    "query = \"Cuanto cuesta renovar la licencia\"\n",
    "docs = db.similarity_search(query)"
   ]
  },
  {
   "cell_type": "code",
   "execution_count": 68,
   "metadata": {},
   "outputs": [
    {
     "name": "stdout",
     "output_type": "stream",
     "text": [
      "1. Antes de iniciar tu trámite deberás leer cuidadosamente los requisitos a reunir. Como primer paso deberás realizar el pago de derechos por concepto de \"Renovación o Refrendo de tarjeta de circulación\",  Clave 36-15  Descárgala aquí: https://data.finanzas.cdmx.gob.mx/formato_lc/vehicular/36_15.  Realiza tu pago en los Centros de Servicio de la Secretaría de Administración y Finanzas o Auxiliares de pago autorizados, mismos que podrás consultar a través de la siguiente liga https://s3.amazonaws.com/cdmxassets/media/Archivos+pdf/Directorio_areas_web.pdf, considera que en algunos establecimientos la aplicación de tu pago se verá reflejado hasta 72 horas después. Conserva el comprobante de pago de la línea de captura es parte de la documentación que tendrás que presentar.\n",
      "\n",
      "\n",
      "2. Una vez que tengas los requisitos completos además del comprobante de pago en original, solicita una cita en SEMOVI en alguno de los Módulos de Control Vehicular disponibles en la siguiente liga: https://app.semovi.cdmx.gob.mx/citas-2023/  Puedes elegir el módulo al momento de programar la cita.\n",
      "\n",
      "\n",
      "3. Acude con los documentos originales para realizar tu trámite al Módulo de Control Vehicular que hayas elegido en el momento de generar tu cita (solo se te atenderá en él).\n"
     ]
    }
   ],
   "source": [
    "print(docs[0].page_content)"
   ]
  },
  {
   "cell_type": "code",
   "execution_count": 69,
   "metadata": {},
   "outputs": [
    {
     "name": "stdout",
     "output_type": "stream",
     "text": [
      "1. Antes de iniciar tu trámite deberás leer cuidadosamente los requisitos a reunir. Como primer paso deberás realizar el pago de derechos por concepto de \"Renovación o Refrendo de tarjeta de circulación\",  Clave 36-15  Descárgala aquí: https://data.finanzas.cdmx.gob.mx/formato_lc/vehicular/36_15.  Realiza tu pago en los Centros de Servicio de la Secretaría de Administración y Finanzas o Auxiliares de pago autorizados, mismos que podrás consultar a través de la siguiente liga https://s3.amazonaws.com/cdmxassets/media/Archivos+pdf/Directorio_areas_web.pdf, considera que en algunos establecimientos la aplicación de tu pago se verá reflejado hasta 72 horas después. Conserva el comprobante de pago de la línea de captura es parte de la documentación que tendrás que presentar.\n",
      "\n",
      "\n",
      "2. Una vez que tengas los requisitos completos además del comprobante de pago en original, solicita una cita en SEMOVI en alguno de los Módulos de Control Vehicular disponibles en la siguiente liga: https://app.semovi.cdmx.gob.mx/citas-2023/  Puedes elegir el módulo al momento de programar la cita.\n",
      "\n",
      "\n",
      "3. Acude con los documentos originales para realizar tu trámite al Módulo de Control Vehicular que hayas elegido en el momento de generar tu cita (solo se te atenderá en él).\n"
     ]
    }
   ],
   "source": [
    "retriever = db.as_retriever()\n",
    "docs = retriever.invoke(query)\n",
    "print(docs[0].page_content)"
   ]
  },
  {
   "cell_type": "code",
   "execution_count": 70,
   "metadata": {},
   "outputs": [],
   "source": [
    "db.save_local(\"faiss_prueba\")"
   ]
  },
  {
   "cell_type": "code",
   "execution_count": 71,
   "metadata": {},
   "outputs": [],
   "source": [
    "new_db = FAISS.load_local(\"faiss_prueba\", embeddings)"
   ]
  },
  {
   "cell_type": "code",
   "execution_count": 72,
   "metadata": {},
   "outputs": [
    {
     "data": {
      "text/plain": [
       "Document(page_content='1. Antes de iniciar tu trámite deberás leer cuidadosamente los requisitos a reunir. Como primer paso deberás realizar el pago de derechos por concepto de \"Renovación o Refrendo de tarjeta de circulación\",  Clave 36-15  Descárgala aquí: https://data.finanzas.cdmx.gob.mx/formato_lc/vehicular/36_15.  Realiza tu pago en los Centros de Servicio de la Secretaría de Administración y Finanzas o Auxiliares de pago autorizados, mismos que podrás consultar a través de la siguiente liga https://s3.amazonaws.com/cdmxassets/media/Archivos+pdf/Directorio_areas_web.pdf, considera que en algunos establecimientos la aplicación de tu pago se verá reflejado hasta 72 horas después. Conserva el comprobante de pago de la línea de captura es parte de la documentación que tendrás que presentar.\\n\\n\\n2. Una vez que tengas los requisitos completos además del comprobante de pago en original, solicita una cita en SEMOVI en alguno de los Módulos de Control Vehicular disponibles en la siguiente liga: https://app.semovi.cdmx.gob.mx/citas-2023/  Puedes elegir el módulo al momento de programar la cita.\\n\\n\\n3. Acude con los documentos originales para realizar tu trámite al Módulo de Control Vehicular que hayas elegido en el momento de generar tu cita (solo se te atenderá en él).', metadata={'source': '../raw_data/scraped_data2.txt'})"
      ]
     },
     "execution_count": 72,
     "metadata": {},
     "output_type": "execute_result"
    }
   ],
   "source": [
    "docs = new_db.similarity_search(query)\n",
    "docs[0]"
   ]
  },
  {
   "cell_type": "markdown",
   "metadata": {},
   "source": [
    "## PRUEBA CARGANDO SOLO EL PDF"
   ]
  },
  {
   "cell_type": "markdown",
   "metadata": {},
   "source": [
    "### El pdf tiene 90 docs y 52884 tokens"
   ]
  },
  {
   "cell_type": "code",
   "execution_count": 73,
   "metadata": {},
   "outputs": [],
   "source": [
    "file_paths = [\n",
    "    #../raw_data/scraped_data.txt\",\n",
    "    #\"../raw_data/scraped_data2.txt\",\n",
    "    \"../raw_data/Reglamento_CDMX.pdf\"\n",
    "]"
   ]
  },
  {
   "cell_type": "code",
   "execution_count": 74,
   "metadata": {},
   "outputs": [],
   "source": [
    "documents = []\n",
    "for file_path in file_paths:\n",
    "    if file_path.endswith(\".txt\"):\n",
    "        loader = TextLoader(file_path)\n",
    "    elif file_path.endswith(\".pdf\"):\n",
    "        loader = PyPDFLoader(file_path)\n",
    "    else:\n",
    "        print(f\"Unsupported file format for {file_path}\")\n",
    "text = loader.load()\n",
    "documents.append(text)"
   ]
  },
  {
   "cell_type": "code",
   "execution_count": 75,
   "metadata": {},
   "outputs": [
    {
     "name": "stdout",
     "output_type": "stream",
     "text": [
      "1\n"
     ]
    }
   ],
   "source": [
    "print(len(documents))"
   ]
  },
  {
   "cell_type": "code",
   "execution_count": 76,
   "metadata": {},
   "outputs": [],
   "source": [
    "text_splitter = CharacterTextSplitter(chunk_size=1500, chunk_overlap=0)"
   ]
  },
  {
   "cell_type": "code",
   "execution_count": 77,
   "metadata": {},
   "outputs": [],
   "source": [
    "docs = text_splitter.split_documents(documents[0])"
   ]
  },
  {
   "cell_type": "code",
   "execution_count": 78,
   "metadata": {},
   "outputs": [
    {
     "name": "stdout",
     "output_type": "stream",
     "text": [
      "90\n"
     ]
    }
   ],
   "source": [
    "print(len(docs))"
   ]
  },
  {
   "cell_type": "code",
   "execution_count": 79,
   "metadata": {},
   "outputs": [
    {
     "name": "stdout",
     "output_type": "stream",
     "text": [
      "52884\n"
     ]
    }
   ],
   "source": [
    "def countTokens(query: str):\n",
    "    encoding = tiktoken.get_encoding(\"cl100k_base\")\n",
    "    num_tokens=len(encoding.encode(query))\n",
    "    return num_tokens\n",
    "\n",
    "print(sum(countTokens(d.page_content) for d in docs))"
   ]
  },
  {
   "cell_type": "markdown",
   "metadata": {},
   "source": [
    "### Aqui hacemos el embedding solo a una parte de los 90 docs del pdf, para probar unicamente"
   ]
  },
  {
   "cell_type": "code",
   "execution_count": 80,
   "metadata": {},
   "outputs": [
    {
     "name": "stdout",
     "output_type": "stream",
     "text": [
      "21\n",
      "41\n",
      "61\n"
     ]
    }
   ],
   "source": [
    "i=1\n",
    "embeddings = OpenAIEmbeddings()\n",
    "db = FAISS.from_documents([docs[0]],embeddings)\n",
    "while i <= 50:\n",
    "    db1 = FAISS.from_documents(docs[i:i+20], embeddings)\n",
    "    i +=20\n",
    "    db.merge_from(db1)\n",
    "    print(i)\n",
    "    time.sleep(30)"
   ]
  },
  {
   "cell_type": "code",
   "execution_count": 81,
   "metadata": {},
   "outputs": [
    {
     "name": "stdout",
     "output_type": "stream",
     "text": [
      "conductores de vehículos motorizados que infrinjan la presente disposición serán sancionados con una multa equivalente a 5, 7 o 10 veces la Unidad de Medida y Actualización vigente y tres puntos de penalización a la licencia para conducir o en caso de infracciones captadas a través de sistemas tecnológicos se sancionará con un punto a la matrícula vehicular.\n"
     ]
    }
   ],
   "source": [
    "query = \"Cuanto cuesta renovar la licencia\"\n",
    "docs = db.similarity_search(query)\n",
    "print(docs[0].page_content)"
   ]
  },
  {
   "cell_type": "code",
   "execution_count": 82,
   "metadata": {},
   "outputs": [
    {
     "name": "stdout",
     "output_type": "stream",
     "text": [
      "conductores de vehículos motorizados que infrinjan la presente disposición serán sancionados con una multa equivalente a 5, 7 o 10 veces la Unidad de Medida y Actualización vigente y tres puntos de penalización a la licencia para conducir o en caso de infracciones captadas a través de sistemas tecnológicos se sancionará con un punto a la matrícula vehicular.\n"
     ]
    }
   ],
   "source": [
    "retriever = db.as_retriever()\n",
    "docs = retriever.invoke(query)\n",
    "print(docs[0].page_content)"
   ]
  },
  {
   "cell_type": "code",
   "execution_count": 83,
   "metadata": {},
   "outputs": [],
   "source": [
    "db.save_local(\"faiss_prueba_pdf\")"
   ]
  },
  {
   "cell_type": "code",
   "execution_count": 84,
   "metadata": {},
   "outputs": [],
   "source": [
    "new_db = FAISS.load_local(\"faiss_prueba_pdf\", embeddings)"
   ]
  },
  {
   "cell_type": "code",
   "execution_count": 85,
   "metadata": {},
   "outputs": [
    {
     "data": {
      "text/plain": [
       "Document(page_content='conductores de vehículos motorizados que infrinjan la presente disposición serán sancionados con una multa equivalente a 5, 7 o 10 veces la Unidad de Medida y Actualización vigente y tres puntos de penalización a la licencia para conducir o en caso de infracciones captadas a través de sistemas tecnológicos se sancionará con un punto a la matrícula vehicular.', metadata={'source': '../raw_data/Reglamento_CDMX.pdf', 'page': 13})"
      ]
     },
     "execution_count": 85,
     "metadata": {},
     "output_type": "execute_result"
    }
   ],
   "source": [
    "docs = new_db.similarity_search(query)\n",
    "docs[0]"
   ]
  },
  {
   "cell_type": "markdown",
   "metadata": {},
   "source": [
    "## PRUEBA CARGANDO EL SEGUNDO TXT Y EL PDF"
   ]
  },
  {
   "cell_type": "markdown",
   "metadata": {},
   "source": [
    "### El pdf tiene 90 docs y 52884 tokens\n",
    "### El segundo txt dijimos que tiene 247 docs y 84591 tokens"
   ]
  },
  {
   "cell_type": "code",
   "execution_count": 102,
   "metadata": {},
   "outputs": [],
   "source": [
    "file_paths = [\n",
    "    #../raw_data/scraped_data.txt\",\n",
    "    \"../raw_data/scraped_data2.txt\",\n",
    "    \"../raw_data/Reglamento_CDMX.pdf\"\n",
    "]"
   ]
  },
  {
   "cell_type": "markdown",
   "metadata": {},
   "source": [
    "Con este for no se podian cargar los dos documentos, el txt y el pdf"
   ]
  },
  {
   "cell_type": "code",
   "execution_count": 87,
   "metadata": {},
   "outputs": [],
   "source": [
    "documents = []\n",
    "for file_path in file_paths:\n",
    "    if file_path.endswith(\".txt\"):\n",
    "        loader = TextLoader(file_path)\n",
    "    elif file_path.endswith(\".pdf\"):\n",
    "        loader = PyPDFLoader(file_path)\n",
    "    else:\n",
    "        print(f\"Unsupported file format for {file_path}\")\n",
    "text = loader.load()\n",
    "documents.append(text)"
   ]
  },
  {
   "cell_type": "markdown",
   "metadata": {},
   "source": [
    "Se cargaron de esta manera:"
   ]
  },
  {
   "cell_type": "code",
   "execution_count": 107,
   "metadata": {},
   "outputs": [],
   "source": [
    "documents =[]\n",
    "\n",
    "loader2 = TextLoader(\"../raw_data/scraped_data2.txt\")\n",
    "text2 = loader2.load()\n",
    "documents.append(text2)\n",
    "\n",
    "loader3 = PyPDFLoader(\"../raw_data/Reglamento_CDMX.pdf\")\n",
    "pdf = loader3.load()\n",
    "documents.append(pdf)"
   ]
  },
  {
   "cell_type": "code",
   "execution_count": 114,
   "metadata": {},
   "outputs": [
    {
     "name": "stdout",
     "output_type": "stream",
     "text": [
      "2\n"
     ]
    }
   ],
   "source": [
    "print(len(documents))"
   ]
  },
  {
   "cell_type": "code",
   "execution_count": 109,
   "metadata": {},
   "outputs": [],
   "source": [
    "text_splitter = CharacterTextSplitter(chunk_size=1500, chunk_overlap=0)"
   ]
  },
  {
   "cell_type": "code",
   "execution_count": 112,
   "metadata": {},
   "outputs": [
    {
     "name": "stderr",
     "output_type": "stream",
     "text": [
      "Created a chunk of size 2172, which is longer than the specified 1500\n",
      "Created a chunk of size 1843, which is longer than the specified 1500\n",
      "Created a chunk of size 4670, which is longer than the specified 1500\n",
      "Created a chunk of size 4138, which is longer than the specified 1500\n",
      "Created a chunk of size 2172, which is longer than the specified 1500\n",
      "Created a chunk of size 1843, which is longer than the specified 1500\n",
      "Created a chunk of size 4670, which is longer than the specified 1500\n",
      "Created a chunk of size 4138, which is longer than the specified 1500\n",
      "Created a chunk of size 2172, which is longer than the specified 1500\n",
      "Created a chunk of size 1843, which is longer than the specified 1500\n",
      "Created a chunk of size 4670, which is longer than the specified 1500\n",
      "Created a chunk of size 4138, which is longer than the specified 1500\n"
     ]
    },
    {
     "name": "stdout",
     "output_type": "stream",
     "text": [
      "231\n",
      "<class 'list'>\n"
     ]
    }
   ],
   "source": [
    "docs_0 = text_splitter.split_documents(documents[0])\n",
    "print(len(docs_0))\n",
    "print(type(docs_0))"
   ]
  },
  {
   "cell_type": "code",
   "execution_count": 115,
   "metadata": {},
   "outputs": [
    {
     "name": "stdout",
     "output_type": "stream",
     "text": [
      "90\n",
      "<class 'list'>\n"
     ]
    }
   ],
   "source": [
    "docs_1 = text_splitter.split_documents(documents[1])\n",
    "print(len(docs_1))\n",
    "print(type(docs_1))"
   ]
  },
  {
   "cell_type": "code",
   "execution_count": 125,
   "metadata": {},
   "outputs": [
    {
     "name": "stderr",
     "output_type": "stream",
     "text": [
      "Created a chunk of size 2172, which is longer than the specified 1500\n",
      "Created a chunk of size 1843, which is longer than the specified 1500\n",
      "Created a chunk of size 4670, which is longer than the specified 1500\n",
      "Created a chunk of size 4138, which is longer than the specified 1500\n",
      "Created a chunk of size 2172, which is longer than the specified 1500\n",
      "Created a chunk of size 1843, which is longer than the specified 1500\n",
      "Created a chunk of size 4670, which is longer than the specified 1500\n",
      "Created a chunk of size 4138, which is longer than the specified 1500\n",
      "Created a chunk of size 2172, which is longer than the specified 1500\n",
      "Created a chunk of size 1843, which is longer than the specified 1500\n",
      "Created a chunk of size 4670, which is longer than the specified 1500\n",
      "Created a chunk of size 4138, which is longer than the specified 1500\n"
     ]
    }
   ],
   "source": [
    "docs = []\n",
    "\n",
    "for doc in documents:\n",
    "    split_doc = text_splitter.split_documents(doc)\n",
    "    docs.append(split_doc)\n"
   ]
  },
  {
   "cell_type": "code",
   "execution_count": 124,
   "metadata": {},
   "outputs": [
    {
     "data": {
      "text/plain": [
       "2"
      ]
     },
     "execution_count": 124,
     "metadata": {},
     "output_type": "execute_result"
    }
   ],
   "source": [
    "len(docs)"
   ]
  },
  {
   "cell_type": "code",
   "execution_count": 122,
   "metadata": {},
   "outputs": [
    {
     "name": "stdout",
     "output_type": "stream",
     "text": [
      "Primer doc tiene 231 documentos y Segundo doc tiene 90\n"
     ]
    }
   ],
   "source": [
    "print(f\"Primer doc tiene {len(docs[0])} documentos y Segundo doc tiene {len(docs[1])}\")"
   ]
  },
  {
   "cell_type": "markdown",
   "metadata": {},
   "source": [
    "### Aqui hacemos el embedding solo a una parte de los 337 docs que suman del pdf y del segundo txt, para probar unicamente"
   ]
  },
  {
   "cell_type": "code",
   "execution_count": 139,
   "metadata": {},
   "outputs": [
    {
     "name": "stderr",
     "output_type": "stream",
     "text": [
      "/home/tere/.pyenv/versions/3.10.6/envs/chatbot/lib/python3.10/site-packages/tqdm/auto.py:21: TqdmWarning: IProgress not found. Please update jupyter and ipywidgets. See https://ipywidgets.readthedocs.io/en/stable/user_install.html\n",
      "  from .autonotebook import tqdm as notebook_tqdm\n",
      "  0%|          | 0/1 [00:00<?, ?it/s]"
     ]
    },
    {
     "name": "stderr",
     "output_type": "stream",
     "text": [
      "100%|██████████| 1/1 [00:00<00:00,  2.99it/s]\n"
     ]
    },
    {
     "name": "stdout",
     "output_type": "stream",
     "text": [
      "Creating embedding from document...\n"
     ]
    },
    {
     "name": "stderr",
     "output_type": "stream",
     "text": [
      "100%|██████████| 1/1 [00:00<00:00,  1.42it/s]\n"
     ]
    },
    {
     "name": "stdout",
     "output_type": "stream",
     "text": [
      "21\n"
     ]
    },
    {
     "name": "stderr",
     "output_type": "stream",
     "text": [
      "100%|██████████| 1/1 [00:00<00:00,  1.35it/s]\n"
     ]
    },
    {
     "name": "stdout",
     "output_type": "stream",
     "text": [
      "41\n"
     ]
    },
    {
     "name": "stderr",
     "output_type": "stream",
     "text": [
      "100%|██████████| 1/1 [00:00<00:00,  1.28it/s]\n"
     ]
    },
    {
     "name": "stdout",
     "output_type": "stream",
     "text": [
      "61\n",
      "Creating embedding from document...\n"
     ]
    },
    {
     "name": "stderr",
     "output_type": "stream",
     "text": [
      "100%|██████████| 1/1 [00:01<00:00,  1.15s/it]\n"
     ]
    },
    {
     "name": "stdout",
     "output_type": "stream",
     "text": [
      "21\n"
     ]
    },
    {
     "name": "stderr",
     "output_type": "stream",
     "text": [
      "100%|██████████| 1/1 [00:00<00:00,  1.08it/s]\n"
     ]
    },
    {
     "name": "stdout",
     "output_type": "stream",
     "text": [
      "41\n"
     ]
    },
    {
     "name": "stderr",
     "output_type": "stream",
     "text": [
      "100%|██████████| 1/1 [00:01<00:00,  1.03s/it]\n"
     ]
    },
    {
     "name": "stdout",
     "output_type": "stream",
     "text": [
      "61\n"
     ]
    }
   ],
   "source": [
    "embeddings = OpenAIEmbeddings(show_progress_bar = True)\n",
    "db = FAISS.from_documents([docs[0][0]],embeddings)\n",
    "for doc in docs:\n",
    "    i=1\n",
    "    print(f\"Creating embedding from document...\")\n",
    "    while i <= 50:\n",
    "        db1 = FAISS.from_documents(doc[i:i+20], embeddings)\n",
    "        i +=20\n",
    "        db.merge_from(db1)\n",
    "        print(i)\n",
    "        time.sleep(30)"
   ]
  },
  {
   "cell_type": "code",
   "execution_count": 140,
   "metadata": {},
   "outputs": [
    {
     "name": "stderr",
     "output_type": "stream",
     "text": [
      "100%|██████████| 1/1 [00:00<00:00,  3.25it/s]"
     ]
    },
    {
     "name": "stdout",
     "output_type": "stream",
     "text": [
      "1. Antes de iniciar tu trámite deberás leer cuidadosamente los requisitos a reunir. Como primer paso deberás realizar el pago de derechos por concepto de \"Renovación o Refrendo de tarjeta de circulación\",  Clave 36-15  Descárgala aquí: https://data.finanzas.cdmx.gob.mx/formato_lc/vehicular/36_15.  Realiza tu pago en los Centros de Servicio de la Secretaría de Administración y Finanzas o Auxiliares de pago autorizados, mismos que podrás consultar a través de la siguiente liga https://s3.amazonaws.com/cdmxassets/media/Archivos+pdf/Directorio_areas_web.pdf, considera que en algunos establecimientos la aplicación de tu pago se verá reflejado hasta 72 horas después. Conserva el comprobante de pago de la línea de captura es parte de la documentación que tendrás que presentar.\n",
      "\n",
      "\n",
      "2. Una vez que tengas los requisitos completos además del comprobante de pago en original, solicita una cita en SEMOVI en alguno de los Módulos de Control Vehicular disponibles en la siguiente liga: https://app.semovi.cdmx.gob.mx/citas-2023/  Puedes elegir el módulo al momento de programar la cita.\n",
      "\n",
      "\n",
      "3. Acude con los documentos originales para realizar tu trámite al Módulo de Control Vehicular que hayas elegido en el momento de generar tu cita (solo se te atenderá en él).\n"
     ]
    },
    {
     "name": "stderr",
     "output_type": "stream",
     "text": [
      "\n"
     ]
    }
   ],
   "source": [
    "query = \"Cuanto cuesta renovar la licencia\"\n",
    "docs = db.similarity_search(query)\n",
    "print(docs[0].page_content)"
   ]
  },
  {
   "cell_type": "code",
   "execution_count": 143,
   "metadata": {},
   "outputs": [
    {
     "name": "stderr",
     "output_type": "stream",
     "text": [
      "100%|██████████| 1/1 [00:00<00:00,  2.98it/s]"
     ]
    },
    {
     "name": "stdout",
     "output_type": "stream",
     "text": [
      "conductores de vehículos motorizados que infrinjan la presente disposición serán sancionados con una multa equivalente a 5, 7 o 10 veces la Unidad de Medida y Actualización vigente y tres puntos de penalización a la licencia para conducir o en caso de infracciones captadas a través de sistemas tecnológicos se sancionará con un punto a la matrícula vehicular.\n"
     ]
    },
    {
     "name": "stderr",
     "output_type": "stream",
     "text": [
      "\n"
     ]
    }
   ],
   "source": [
    "query = \"Cual es la multa por manejar sin licencia\"\n",
    "docs = db.similarity_search(query)\n",
    "print(docs[0].page_content)"
   ]
  },
  {
   "cell_type": "code",
   "execution_count": 144,
   "metadata": {},
   "outputs": [
    {
     "name": "stderr",
     "output_type": "stream",
     "text": [
      "100%|██████████| 1/1 [00:00<00:00,  3.04it/s]"
     ]
    },
    {
     "name": "stdout",
     "output_type": "stream",
     "text": [
      "conductores de vehículos motorizados que infrinjan la presente disposición serán sancionados con una multa equivalente a 5, 7 o 10 veces la Unidad de Medida y Actualización vigente y tres puntos de penalización a la licencia para conducir o en caso de infracciones captadas a través de sistemas tecnológicos se sancionará con un punto a la matrícula vehicular.\n"
     ]
    },
    {
     "name": "stderr",
     "output_type": "stream",
     "text": [
      "\n"
     ]
    }
   ],
   "source": [
    "retriever = db.as_retriever()\n",
    "docs = retriever.invoke(query)\n",
    "print(docs[0].page_content)"
   ]
  },
  {
   "cell_type": "code",
   "execution_count": 151,
   "metadata": {},
   "outputs": [],
   "source": [
    "db.save_local(\"faiss_prueba_pdf_txt\")"
   ]
  },
  {
   "cell_type": "code",
   "execution_count": 146,
   "metadata": {},
   "outputs": [],
   "source": [
    "new_db = FAISS.load_local(\"faiss_prueba_pdf_txt\", embeddings)"
   ]
  },
  {
   "cell_type": "code",
   "execution_count": 147,
   "metadata": {},
   "outputs": [
    {
     "name": "stderr",
     "output_type": "stream",
     "text": [
      "100%|██████████| 1/1 [00:00<00:00,  3.13it/s]\n"
     ]
    },
    {
     "data": {
      "text/plain": [
       "Document(page_content='conductores de vehículos motorizados que infrinjan la presente disposición serán sancionados con una multa equivalente a 5, 7 o 10 veces la Unidad de Medida y Actualización vigente y tres puntos de penalización a la licencia para conducir o en caso de infracciones captadas a través de sistemas tecnológicos se sancionará con un punto a la matrícula vehicular.', metadata={'source': '../raw_data/Reglamento_CDMX.pdf', 'page': 13})"
      ]
     },
     "execution_count": 147,
     "metadata": {},
     "output_type": "execute_result"
    }
   ],
   "source": [
    "docs = new_db.similarity_search(query)\n",
    "docs[0]"
   ]
  },
  {
   "cell_type": "code",
   "execution_count": 150,
   "metadata": {},
   "outputs": [
    {
     "data": {
      "text/plain": [
       "{'source': '../raw_data/Reglamento_CDMX.pdf', 'page': 37}"
      ]
     },
     "execution_count": 150,
     "metadata": {},
     "output_type": "execute_result"
    }
   ],
   "source": [
    "docs[3].metadata"
   ]
  },
  {
   "cell_type": "code",
   "execution_count": null,
   "metadata": {},
   "outputs": [],
   "source": []
  }
 ],
 "metadata": {
  "kernelspec": {
   "display_name": "chatbot",
   "language": "python",
   "name": "python3"
  },
  "language_info": {
   "codemirror_mode": {
    "name": "ipython",
    "version": 3
   },
   "file_extension": ".py",
   "mimetype": "text/x-python",
   "name": "python",
   "nbconvert_exporter": "python",
   "pygments_lexer": "ipython3",
   "version": "3.10.6"
  }
 },
 "nbformat": 4,
 "nbformat_minor": 2
}
